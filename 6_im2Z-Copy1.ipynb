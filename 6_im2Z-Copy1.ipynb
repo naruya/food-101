{
 "cells": [
  {
   "cell_type": "markdown",
   "metadata": {},
   "source": [
    "## encoderの出力がtanhじゃなかったorz"
   ]
  },
  {
   "cell_type": "code",
   "execution_count": 2,
   "metadata": {},
   "outputs": [
    {
     "name": "stdout",
     "output_type": "stream",
     "text": [
      "recipe_Z-0000000-0010000.pkl\n",
      "recipe_Z-0010000-0020000.pkl\n",
      "recipe_Z-0020000-0030000.pkl\n",
      "recipe_Z-0030000-0040000.pkl\n",
      "recipe_Z-0040000-0050000.pkl\n",
      "recipe_Z-0050000-0060000.pkl\n",
      "recipe_Z-0060000-0070000.pkl\n",
      "recipe_Z-0070000-0080000.pkl\n",
      "recipe_Z-0080000-0090000.pkl\n",
      "recipe_Z-0090000-0100000.pkl\n"
     ]
    }
   ],
   "source": [
    "import pickle\n",
    "import os\n",
    "path_pkl = 'recipe_Z/'\n",
    "pkl_files = os.listdir(path_pkl)\n",
    "pkl_files.sort()\n",
    "\n",
    "Z = {} # 潜在変数Z\n",
    "\n",
    "for pkl_file in pkl_files:\n",
    "    \n",
    "    with open(path_pkl + pkl_file, 'rb') as f:\n",
    "        z = pickle.load(f)\n",
    "    Z.update(z)\n",
    "    print(pkl_file)"
   ]
  },
  {
   "cell_type": "code",
   "execution_count": 3,
   "metadata": {},
   "outputs": [
    {
     "data": {
      "text/plain": [
       "<matplotlib.figure.Figure at 0x7f0ba3778f98>"
      ]
     },
     "metadata": {},
     "output_type": "display_data"
    },
    {
     "name": "stdout",
     "output_type": "stream",
     "text": [
      "(260, 300, 3)\n"
     ]
    },
    {
     "data": {
      "text/plain": [
       "<matplotlib.figure.Figure at 0x7f0b97313748>"
      ]
     },
     "metadata": {},
     "output_type": "display_data"
    },
    {
     "name": "stdout",
     "output_type": "stream",
     "text": [
      "(260, 346, 3)\n",
      "(1024,)\n",
      "[ 0.6  1.   1.  ...  1.  -1.   1. ]\n"
     ]
    }
   ],
   "source": [
    "import os\n",
    "import cv2\n",
    "import matplotlib.pyplot as plt\n",
    "path_img = '../cookpad/data_image/image0/'\n",
    "img_names = os.listdir(path_img)\n",
    "img_names.sort()\n",
    "img = cv2.imread(path_img + img_names[100])\n",
    "img = cv2.cvtColor(img, cv2.COLOR_BGR2RGB)\n",
    "plt.imshow(img)\n",
    "plt.show()\n",
    "print(img.shape)\n",
    "img = cv2.resize(img, (346, 260))\n",
    "plt.imshow(img)\n",
    "plt.show()\n",
    "print(img.shape)\n",
    "key = 'menu-' + img_names[100][5:-4]\n",
    "print(Z[key].shape)\n",
    "print(Z[key])"
   ]
  },
  {
   "cell_type": "code",
   "execution_count": 8,
   "metadata": {
    "scrolled": true
   },
   "outputs": [
    {
     "name": "stdout",
     "output_type": "stream",
     "text": [
      "Learning rate:  1e-08\n",
      "done\n"
     ]
    }
   ],
   "source": [
    "from keras import optimizers\n",
    "from keras.applications.resnet50 import ResNet50\n",
    "from keras.applications.vgg16 import VGG16\n",
    "from keras.datasets import cifar10\n",
    "from keras.layers import Dense, Dropout, Flatten, Input\n",
    "from keras.models import Model, Sequential\n",
    "from keras.utils.np_utils import to_categorical\n",
    "from keras.optimizers import Adam\n",
    "from keras.callbacks import ModelCheckpoint, LearningRateScheduler\n",
    "\n",
    "import matplotlib.pyplot as plt\n",
    "import numpy as np\n",
    "import os\n",
    "import cv2\n",
    "import pickle\n",
    "import random\n",
    "\n",
    "class ImageDataGenerator(object):\n",
    "    def __init__(self):\n",
    "        self.reset()\n",
    "        path_pkl = 'recipe_Z/'\n",
    "        pkl_files = os.listdir(path_pkl)\n",
    "        pkl_files.sort()\n",
    "        Z = {} # 潜在変数Z\n",
    "        for pkl_file in pkl_files:\n",
    "            with open(path_pkl + pkl_file, 'rb') as f:\n",
    "                z = pickle.load(f)\n",
    "            Z.update(z)\n",
    "        self.Z = Z\n",
    "        self.keys = list(Z.keys())\n",
    "        \n",
    "    def reset(self):\n",
    "        self.images = []\n",
    "        self.labels = []\n",
    "    \n",
    "    def flow_from_directory(self, path_img, path_Z, batch_size=32):\n",
    "        img_names = os.listdir(path_img)\n",
    "        #img_names.sort()\n",
    "        n = 0\n",
    "        while True:\n",
    "            random.shuffle(img_names)\n",
    "            for img_name in img_names:\n",
    "                \n",
    "                key = 'menu-' + img_name[5:-4]\n",
    "                \n",
    "                if not key in self.keys:\n",
    "                    continue\n",
    "                \n",
    "                img = cv2.imread(path_img + img_name)\n",
    "                img = cv2.cvtColor(img, cv2.COLOR_BGR2RGB)\n",
    "                img = cv2.resize(img, (346, 260))\n",
    "                \n",
    "                z = self.Z[key]\n",
    "                \n",
    "                if n%10000 == 0:\n",
    "                    plt.imshow(img)\n",
    "                    plt.show()\n",
    "                    print(z)\n",
    "                \n",
    "                self.images.append(img)\n",
    "                self.labels.append(z)\n",
    "                n += 1\n",
    "                if len(self.images) == batch_size:\n",
    "                    inputs = np.asarray(self.images, dtype=np.float32)\n",
    "                    targets = np.asarray(self.labels, dtype=np.float32) # リストのままでよくね？\n",
    "                    self.reset()\n",
    "                    yield inputs, targets\n",
    "\n",
    "def lr_schedule(epoch):\n",
    "    \"\"\"Learning Rate Schedule\n",
    "    Learning rate is scheduled to be reduced after 80, 120, 160, 180 epochs.\n",
    "    Called automatically every epoch as part of callbacks during training.\n",
    "    # Arguments\n",
    "        epoch (int): The number of epochs\n",
    "    # Returns\n",
    "        lr (float32): learning rate\n",
    "    \"\"\"\n",
    "    lr = 1e-8 ############################################### ココもともと1e-8\n",
    "    if epoch > 180:\n",
    "        lr *= 0.5e-3\n",
    "    elif epoch > 160:\n",
    "        lr *= 1e-3\n",
    "    elif epoch > 120:\n",
    "        lr *= 1e-2\n",
    "    elif epoch > 80:\n",
    "        lr *= 1e-1\n",
    "    print('Learning rate: ', lr)\n",
    "    return lr\n",
    "\n",
    "lr_scheduler = LearningRateScheduler(lr_schedule)\n",
    "\n",
    "callbacks = [lr_scheduler]\n",
    "                    \n",
    "#input_tensorの定義\n",
    "input_tensor = Input(shape=(260, 346, 3))\n",
    "\n",
    "resnet = ResNet50(include_top=False, weights=None, input_tensor=input_tensor)\n",
    "#resnet = VGG16(include_top=False, weights=None, input_tensor=input_tensor)#\n",
    "top_model = Sequential()\n",
    "top_model.add(Flatten(input_shape=resnet.output_shape[1:]))\n",
    "top_model.add(Dropout(0.2))\n",
    "top_model.add(Dense(1024, activation='tanh'))\n",
    "\n",
    "# resnet16とtop_modelを連結\n",
    "model = Model(inputs=resnet.input, outputs=top_model(resnet.output))\n",
    "\n",
    "# imagenetの重みを固定\n",
    "#for i, layer in enumerate(model.layers[:174]):\n",
    "#    layer.trainable = False\n",
    "\n",
    "model.compile(loss='mean_squared_error',\n",
    "              optimizer=Adam(lr=lr_schedule(0)))\n",
    "\n",
    "# model.summary()\n",
    "\n",
    "path_img = '../cookpad/data_image/image0/'\n",
    "path_Z = 'recipe_Z/'\n",
    "train_datagen = ImageDataGenerator()\n",
    "\n",
    "model.load_weights('img2Z_weights_1.h5')\n",
    "\n",
    "# hist = model.fit_generator(\n",
    "#     generator=train_datagen.flow_from_directory(path_img=path_img, path_Z=path_Z, batch_size=8),\n",
    "#     steps_per_epoch=1200,\n",
    "#     epochs=50,\n",
    "#     verbose=1,\n",
    "#     callbacks=callbacks)\n",
    "\n",
    "# model.save_weights('img2Z_weights_1.h5')\n",
    "\n",
    "# loss = hist.history['loss']\n",
    "# import matplotlib.pyplot as plt\n",
    "# plt.plot(loss)\n",
    "# plt.show()\n",
    "\n",
    "print(\"done\")\n",
    "# 1.3くらいからの1.2~~1.018~~ 1.257~"
   ]
  },
  {
   "cell_type": "code",
   "execution_count": null,
   "metadata": {},
   "outputs": [],
   "source": [
    "model.save_weights('img2Z_weights_1.h5')"
   ]
  },
  {
   "cell_type": "markdown",
   "metadata": {},
   "source": [
    "## 一枚画像突っ込んで予測\n",
    "## recipe_Zと照合して、for で各Zのvalueとの距離を取る\n",
    "## 近いtop-k個を取る\n",
    "## recipe_titleと照合して、top-kに含まれるすべての単語を1次元のリストに突っ込んでいく\n",
    "## counterでcount\n",
    "## top-2個くらいor上のkに対して何割か以上含まれる名詞を出力"
   ]
  },
  {
   "cell_type": "code",
   "execution_count": 5,
   "metadata": {},
   "outputs": [
    {
     "name": "stdout",
     "output_type": "stream",
     "text": [
      "recipe_Z-0000000-0010000.pkl\n",
      "recipe_Z-0010000-0020000.pkl\n",
      "recipe_Z-0020000-0030000.pkl\n",
      "recipe_Z-0030000-0040000.pkl\n",
      "recipe_Z-0040000-0050000.pkl\n",
      "recipe_Z-0050000-0060000.pkl\n",
      "recipe_Z-0060000-0070000.pkl\n",
      "recipe_Z-0070000-0080000.pkl\n",
      "recipe_Z-0080000-0090000.pkl\n",
      "recipe_Z-0090000-0100000.pkl\n",
      "recipe_title-0000000-0010000.pkl\n",
      "recipe_title-0010000-0020000.pkl\n",
      "recipe_title-0020000-0030000.pkl\n",
      "recipe_title-0030000-0040000.pkl\n",
      "recipe_title-0040000-0050000.pkl\n",
      "recipe_title-0050000-0060000.pkl\n",
      "recipe_title-0060000-0070000.pkl\n",
      "recipe_title-0070000-0080000.pkl\n",
      "recipe_title-0080000-0090000.pkl\n",
      "recipe_title-0090000-0100000.pkl\n"
     ]
    }
   ],
   "source": [
    "import pickle\n",
    "import os\n",
    "path_pkl = 'recipe_Z/'\n",
    "pkl_files = os.listdir(path_pkl)\n",
    "pkl_files.sort()\n",
    "\n",
    "Z = {} # 潜在変数Z\n",
    "\n",
    "for pkl_file in pkl_files:\n",
    "    \n",
    "    with open(path_pkl + pkl_file, 'rb') as f:\n",
    "        z = pickle.load(f)\n",
    "    Z.update(z)\n",
    "    print(pkl_file)\n",
    "\n",
    "path_pkl = 'recipe_title/'\n",
    "pkl_files = os.listdir(path_pkl)\n",
    "pkl_files.sort()\n",
    "\n",
    "T = {} # title\n",
    "\n",
    "for pkl_file in pkl_files:\n",
    "    \n",
    "    with open(path_pkl + pkl_file, 'rb') as f:\n",
    "        t = pickle.load(f)\n",
    "    T.update(t)\n",
    "    print(pkl_file)"
   ]
  },
  {
   "cell_type": "code",
   "execution_count": 6,
   "metadata": {},
   "outputs": [
    {
     "name": "stdout",
     "output_type": "stream",
     "text": [
      "_________________________________________________________________\n",
      "Layer (type)                 Output Shape              Param #   \n",
      "=================================================================\n",
      "input_2 (InputLayer)         (None, 64, 256)           0         \n",
      "_________________________________________________________________\n",
      "conv1d_1 (Conv1D)            (None, 64, 256)           262400    \n",
      "_________________________________________________________________\n",
      "max_pooling1d_1 (MaxPooling1 (None, 32, 256)           0         \n",
      "_________________________________________________________________\n",
      "conv1d_2 (Conv1D)            (None, 32, 128)           98432     \n",
      "_________________________________________________________________\n",
      "max_pooling1d_2 (MaxPooling1 (None, 16, 128)           0         \n",
      "_________________________________________________________________\n",
      "encoded (Conv1D)             (None, 16, 64)            16448     \n",
      "_________________________________________________________________\n",
      "conv1d_3 (Conv1D)            (None, 16, 128)           16512     \n",
      "_________________________________________________________________\n",
      "up_sampling1d_1 (UpSampling1 (None, 32, 128)           0         \n",
      "_________________________________________________________________\n",
      "conv1d_4 (Conv1D)            (None, 32, 128)           49280     \n",
      "_________________________________________________________________\n",
      "up_sampling1d_2 (UpSampling1 (None, 64, 128)           0         \n",
      "_________________________________________________________________\n",
      "conv1d_5 (Conv1D)            (None, 64, 256)           131328    \n",
      "=================================================================\n",
      "Total params: 574,400\n",
      "Trainable params: 574,400\n",
      "Non-trainable params: 0\n",
      "_________________________________________________________________\n",
      "(16, 64)\n",
      "(1, 16, 64)\n"
     ]
    },
    {
     "data": {
      "text/plain": [
       "(1024,)"
      ]
     },
     "execution_count": 6,
     "metadata": {},
     "output_type": "execute_result"
    }
   ],
   "source": [
    "import numpy as np\n",
    "YY = np.load(\"recipe_300_1_resize.npy\")\n",
    "YY.shape\n",
    "y = YY[0]\n",
    "y.shape\n",
    "\n",
    "\n",
    "\n",
    "from keras.layers import Input, Conv1D, MaxPooling1D, UpSampling1D\n",
    "from keras.models import Model\n",
    "import keras\n",
    "\n",
    "input_img = Input(shape=(64,256))\n",
    "\n",
    "x = Conv1D(filters=256, kernel_size=4, activation='relu', padding='same')(input_img)\n",
    "x = MaxPooling1D(2)(x)\n",
    "x = Conv1D(filters=128, kernel_size=3, activation='relu', padding='same')(x)\n",
    "x = MaxPooling1D(2)(x)\n",
    "encoded = Conv1D(filters=64, kernel_size=2, activation='tanh', padding='same', name='encoded')(x) ######reluじゃだめ\n",
    "\n",
    "x = Conv1D(filters=128, kernel_size=2, activation='relu', padding='same')(encoded)\n",
    "x = UpSampling1D(2)(x)\n",
    "x = Conv1D(filters=128, kernel_size=3, activation='relu', padding='same')(x)\n",
    "x = UpSampling1D(2)(x)\n",
    "decoded = Conv1D(filters=256, kernel_size=4, activation='tanh', padding='same')(x)\n",
    "\n",
    "autoencoder = Model(input_img, decoded)\n",
    "\n",
    "adam = keras.optimizers.Adam(lr=0.0000000001, beta_1=0.9, beta_2=0.999, epsilon=None, decay=0.0, amsgrad=False)\n",
    "autoencoder.compile(optimizer='adam', loss='binary_crossentropy')\n",
    "autoencoder.summary()\n",
    "\n",
    "autoencoder.load_weights('autoencoder_weights.h5')\n",
    "\n",
    "\n",
    "\n",
    "layer_name = 'encoded'\n",
    "intermediate_layer_model = Model(inputs=autoencoder.input,\n",
    "                                 outputs=autoencoder.get_layer(layer_name).output)\n",
    "\n",
    "[y] = intermediate_layer_model.predict(np.array([YY[0]]))\n",
    "print(y.shape)\n",
    "y = np.array([y])\n",
    "print(y.shape)\n",
    "\n",
    "y = np.mean(y, axis=0).flatten()\n",
    "y.shape"
   ]
  },
  {
   "cell_type": "code",
   "execution_count": 9,
   "metadata": {},
   "outputs": [
    {
     "data": {
      "image/png": "[encoded data removed]",
      "text/plain": [
       "<matplotlib.figure.Figure at 0x7f0b5a793b38>"
      ]
     },
     "metadata": {},
     "output_type": "display_data"
    },
    {
     "name": "stdout",
     "output_type": "stream",
     "text": [
      "pred:  [-0.48004103  0.9851899  -1.         ...  0.9996512  -0.99999934\n",
      "  0.38011712]\n",
      "pred_shape:  (1024,)\n"
     ]
    }
   ],
   "source": [
    "import os\n",
    "import cv2\n",
    "import matplotlib.pyplot as plt\n",
    "path_img = '../cookpad/data_image/image0/'\n",
    "img_names = os.listdir(path_img)\n",
    "img_names.sort()\n",
    "img = cv2.imread(path_img + img_names[41])\n",
    "img = cv2.cvtColor(img, cv2.COLOR_BGR2RGB)\n",
    "\n",
    "\n",
    "img = cv2.resize(img, (346, 260))\n",
    "X = np.array([img])\n",
    "[y] = model.predict(X)\n",
    "\n",
    "\n",
    "\n",
    "#key = 'menu-' + img_names[100][5:-4]\n",
    "#print(Z[key].shape)\n",
    "#print(Z[key]) # レシピを圧縮してできた答え\n",
    "\n",
    "plt.imshow(img)\n",
    "plt.show()\n",
    "\n",
    "print(\"pred: \", y) # 画像を圧縮して作った予測データ\n",
    "print(\"pred_shape: \", y.shape)"
   ]
  },
  {
   "cell_type": "code",
   "execution_count": 10,
   "metadata": {},
   "outputs": [
    {
     "name": "stdout",
     "output_type": "stream",
     "text": [
      "[['menu-0040000-0050000-0000717' '26.103548']\n",
      " ['menu-0070000-0080000-0001545' '26.113682']\n",
      " ['menu-0090000-0100000-0001380' '26.14464']]\n",
      "[['menu-0050000-0060000-0001756' '33.225872']\n",
      " ['menu-0030000-0040000-0001121' '33.901783']\n",
      " ['menu-0080000-0090000-0000407' '34.060738']]\n",
      "22119\n"
     ]
    }
   ],
   "source": [
    "# 距離を格納する辞書\n",
    "L = {}\n",
    "\n",
    "for key, z in Z.items():\n",
    "    #print(y, z)\n",
    "    l = np.linalg.norm(y-z) # 予測から各々を引く\n",
    "    L.update({key:l})\n",
    "import numpy as np\n",
    "L = np.array(sorted(L.items(), key=lambda x: x[1]))\n",
    "print(L[:3])\n",
    "print(L[-3:])\n",
    "print(len(Z))"
   ]
  },
  {
   "cell_type": "code",
   "execution_count": 11,
   "metadata": {},
   "outputs": [],
   "source": [
    "# 近いデータのkey\n",
    "sim_keys = list(L[:10,0])"
   ]
  },
  {
   "cell_type": "code",
   "execution_count": 12,
   "metadata": {
    "scrolled": true
   },
   "outputs": [
    {
     "data": {
      "text/plain": [
       "['彩り',\n",
       " 'ひじき煮',\n",
       " 'トマト',\n",
       " 'ニンニク',\n",
       " 'スープ',\n",
       " '鯵',\n",
       " '鰯',\n",
       " 'なめろう',\n",
       " 'ため',\n",
       " '３',\n",
       " '品',\n",
       " 'ハム',\n",
       " '大葉',\n",
       " 'パスタ',\n",
       " '花見',\n",
       " 'サラダ',\n",
       " 'かつお',\n",
       " 'ミディアム・レア',\n",
       " 'cuccina',\n",
       " 'via',\n",
       " 'dolphine',\n",
       " '1',\n",
       " 'mozzarella',\n",
       " 'and',\n",
       " 't',\n",
       " 'om',\n",
       " 'at',\n",
       " \"o's\",\n",
       " 'pasta',\n",
       " '餃子',\n",
       " '魚',\n",
       " '嫌い',\n",
       " '旦那',\n",
       " '牛肉',\n",
       " '玉葱',\n",
       " 'レモン',\n",
       " '風味',\n",
       " 'パスタ',\n",
       " 'ゴマジャガ']"
      ]
     },
     "execution_count": 12,
     "metadata": {},
     "output_type": "execute_result"
    }
   ],
   "source": [
    "# 近いデータの名詞のリスト\n",
    "meisi = []\n",
    "for key in sim_keys:\n",
    "    meisi.extend(T[key])\n",
    "meisi"
   ]
  },
  {
   "cell_type": "code",
   "execution_count": 13,
   "metadata": {},
   "outputs": [
    {
     "data": {
      "text/plain": [
       "[('パスタ', 2),\n",
       " ('彩り', 1),\n",
       " ('ひじき煮', 1),\n",
       " ('トマト', 1),\n",
       " ('ニンニク', 1),\n",
       " ('スープ', 1),\n",
       " ('鯵', 1),\n",
       " ('鰯', 1),\n",
       " ('なめろう', 1),\n",
       " ('ため', 1),\n",
       " ('３', 1),\n",
       " ('品', 1),\n",
       " ('ハム', 1),\n",
       " ('大葉', 1),\n",
       " ('花見', 1),\n",
       " ('サラダ', 1),\n",
       " ('かつお', 1),\n",
       " ('ミディアム・レア', 1),\n",
       " ('cuccina', 1),\n",
       " ('via', 1),\n",
       " ('dolphine', 1),\n",
       " ('1', 1),\n",
       " ('mozzarella', 1),\n",
       " ('and', 1),\n",
       " ('t', 1),\n",
       " ('om', 1),\n",
       " ('at', 1),\n",
       " (\"o's\", 1),\n",
       " ('pasta', 1),\n",
       " ('餃子', 1),\n",
       " ('魚', 1),\n",
       " ('嫌い', 1),\n",
       " ('旦那', 1),\n",
       " ('牛肉', 1),\n",
       " ('玉葱', 1),\n",
       " ('レモン', 1),\n",
       " ('風味', 1),\n",
       " ('ゴマジャガ', 1)]"
      ]
     },
     "execution_count": 13,
     "metadata": {},
     "output_type": "execute_result"
    }
   ],
   "source": [
    "# 再頻出のワードを取得\n",
    "from collections import Counter\n",
    "counter = Counter(meisi)\n",
    "counter.most_common(100)"
   ]
  },
  {
   "cell_type": "code",
   "execution_count": 14,
   "metadata": {},
   "outputs": [
    {
     "data": {
      "text/plain": [
       "[('パスタ', 2),\n",
       " ('彩り', 1),\n",
       " ('ひじき煮', 1),\n",
       " ('トマト', 1),\n",
       " ('ニンニク', 1),\n",
       " ('スープ', 1),\n",
       " ('鯵', 1),\n",
       " ('鰯', 1),\n",
       " ('なめろう', 1),\n",
       " ('ため', 1)]"
      ]
     },
     "execution_count": 14,
     "metadata": {},
     "output_type": "execute_result"
    }
   ],
   "source": [
    "# 再頻出のワードを取得 よくわからなかった時に出される潜在変数に偏りあり\n",
    "from collections import Counter\n",
    "counter = Counter(meisi)\n",
    "counter.most_common(10)"
   ]
  },
  {
   "cell_type": "code",
   "execution_count": null,
   "metadata": {},
   "outputs": [],
   "source": []
  },
  {
   "cell_type": "code",
   "execution_count": null,
   "metadata": {},
   "outputs": [],
   "source": []
  }
 ],
 "metadata": {
  "kernelspec": {
   "display_name": "Python 3",
   "language": "python",
   "name": "python3"
  },
  "language_info": {
   "codemirror_mode": {
    "name": "ipython",
    "version": 3
   },
   "file_extension": ".py",
   "mimetype": "text/x-python",
   "name": "python",
   "nbconvert_exporter": "python",
   "pygments_lexer": "ipython3",
   "version": "3.6.4"
  }
 },
 "nbformat": 4,
 "nbformat_minor": 2
}
